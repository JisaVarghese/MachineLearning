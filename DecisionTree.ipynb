{
  "nbformat": 4,
  "nbformat_minor": 0,
  "metadata": {
    "colab": {
      "name": "DecisionTree.ipynb",
      "provenance": [],
      "authorship_tag": "ABX9TyMlDFU9kZ5XdjBEe54z50K1",
      "include_colab_link": true
    },
    "kernelspec": {
      "name": "python3",
      "display_name": "Python 3"
    }
  },
  "cells": [
    {
      "cell_type": "markdown",
      "metadata": {
        "id": "view-in-github",
        "colab_type": "text"
      },
      "source": [
        "<a href=\"https://colab.research.google.com/github/JisaVarghese/MachineLearning/blob/main/DecisionTree.ipynb\" target=\"_parent\"><img src=\"https://colab.research.google.com/assets/colab-badge.svg\" alt=\"Open In Colab\"/></a>"
      ]
    },
    {
      "cell_type": "code",
      "metadata": {
        "id": "z3S7f0euleiw"
      },
      "source": [
        "import numpy as np\n",
        "import pandas as pd\n",
        "import pydot \n",
        "from sklearn import tree\n",
        "from IPython.display import Image  \n",
        "from sklearn.externals.six import StringIO"
      ],
      "execution_count": 3,
      "outputs": []
    },
    {
      "cell_type": "code",
      "metadata": {
        "colab": {
          "base_uri": "https://localhost:8080/",
          "height": 316
        },
        "id": "h0om6ROPm4Et",
        "outputId": "193690af-6eeb-42c0-aef5-8b7050fa798b"
      },
      "source": [
        "df = pd.read_csv(\"CovidDensity.csv\")\n",
        "df.head()"
      ],
      "execution_count": 7,
      "outputs": [
        {
          "output_type": "execute_result",
          "data": {
            "text/html": [
              "<div>\n",
              "<style scoped>\n",
              "    .dataframe tbody tr th:only-of-type {\n",
              "        vertical-align: middle;\n",
              "    }\n",
              "\n",
              "    .dataframe tbody tr th {\n",
              "        vertical-align: top;\n",
              "    }\n",
              "\n",
              "    .dataframe thead th {\n",
              "        text-align: right;\n",
              "    }\n",
              "</style>\n",
              "<table border=\"1\" class=\"dataframe\">\n",
              "  <thead>\n",
              "    <tr style=\"text-align: right;\">\n",
              "      <th></th>\n",
              "      <th>OBJECTID</th>\n",
              "      <th>ORIGID</th>\n",
              "      <th>CountyName</th>\n",
              "      <th>Covid Density</th>\n",
              "      <th>PopulationCensus16</th>\n",
              "      <th>TimeStamp</th>\n",
              "      <th>IGEasting</th>\n",
              "      <th>IGNorthing</th>\n",
              "      <th>Lat</th>\n",
              "      <th>Long</th>\n",
              "      <th>UGI</th>\n",
              "      <th>ConfirmedCovidCases</th>\n",
              "      <th>PopulationProportionCovidCases</th>\n",
              "      <th>ConfirmedCovidDeaths</th>\n",
              "      <th>ConfirmedCovidRecovered</th>\n",
              "      <th>SHAPE_Length</th>\n",
              "      <th>SHAPE_Area</th>\n",
              "    </tr>\n",
              "  </thead>\n",
              "  <tbody>\n",
              "    <tr>\n",
              "      <th>0</th>\n",
              "      <td>6397</td>\n",
              "      <td>1</td>\n",
              "      <td>Carlow</td>\n",
              "      <td>Medium</td>\n",
              "      <td>56932</td>\n",
              "      <td>11/1/2020 0:00</td>\n",
              "      <td>278661</td>\n",
              "      <td>163444</td>\n",
              "      <td>52.7168</td>\n",
              "      <td>-6.8367</td>\n",
              "      <td>http://data.geohive.ie/resource/county/2ae1962...</td>\n",
              "      <td>554</td>\n",
              "      <td>973.090705</td>\n",
              "      <td>NaN</td>\n",
              "      <td>NaN</td>\n",
              "      <td>3.193486e+05</td>\n",
              "      <td>2432351721</td>\n",
              "    </tr>\n",
              "    <tr>\n",
              "      <th>1</th>\n",
              "      <td>6398</td>\n",
              "      <td>2</td>\n",
              "      <td>Cavan</td>\n",
              "      <td>High</td>\n",
              "      <td>76176</td>\n",
              "      <td>11/1/2020 0:00</td>\n",
              "      <td>246380</td>\n",
              "      <td>304501</td>\n",
              "      <td>53.9878</td>\n",
              "      <td>-7.2937</td>\n",
              "      <td>http://data.geohive.ie/resource/county/2ae1962...</td>\n",
              "      <td>2062</td>\n",
              "      <td>2706.889309</td>\n",
              "      <td>NaN</td>\n",
              "      <td>NaN</td>\n",
              "      <td>5.159545e+05</td>\n",
              "      <td>5575009911</td>\n",
              "    </tr>\n",
              "    <tr>\n",
              "      <th>2</th>\n",
              "      <td>6399</td>\n",
              "      <td>3</td>\n",
              "      <td>Clare</td>\n",
              "      <td>Medium</td>\n",
              "      <td>118817</td>\n",
              "      <td>11/1/2020 0:00</td>\n",
              "      <td>133493</td>\n",
              "      <td>182732</td>\n",
              "      <td>52.8917</td>\n",
              "      <td>-8.9889</td>\n",
              "      <td>http://data.geohive.ie/resource/county/2ae1962...</td>\n",
              "      <td>1311</td>\n",
              "      <td>1103.377463</td>\n",
              "      <td>NaN</td>\n",
              "      <td>NaN</td>\n",
              "      <td>1.013949e+06</td>\n",
              "      <td>8722541706</td>\n",
              "    </tr>\n",
              "    <tr>\n",
              "      <th>3</th>\n",
              "      <td>6400</td>\n",
              "      <td>4</td>\n",
              "      <td>Cork</td>\n",
              "      <td>Medium</td>\n",
              "      <td>542868</td>\n",
              "      <td>11/1/2020 0:00</td>\n",
              "      <td>156242</td>\n",
              "      <td>77860</td>\n",
              "      <td>51.9517</td>\n",
              "      <td>-8.6372</td>\n",
              "      <td>http://data.geohive.ie/resource/county/2ae1962...</td>\n",
              "      <td>5572</td>\n",
              "      <td>1026.400525</td>\n",
              "      <td>NaN</td>\n",
              "      <td>NaN</td>\n",
              "      <td>2.129949e+06</td>\n",
              "      <td>19529490886</td>\n",
              "    </tr>\n",
              "    <tr>\n",
              "      <th>4</th>\n",
              "      <td>6401</td>\n",
              "      <td>5</td>\n",
              "      <td>Donegal</td>\n",
              "      <td>Medium</td>\n",
              "      <td>159192</td>\n",
              "      <td>11/1/2020 0:00</td>\n",
              "      <td>202615</td>\n",
              "      <td>405691</td>\n",
              "      <td>54.8989</td>\n",
              "      <td>-7.9600</td>\n",
              "      <td>http://data.geohive.ie/resource/county/2ae1962...</td>\n",
              "      <td>2180</td>\n",
              "      <td>1369.415549</td>\n",
              "      <td>NaN</td>\n",
              "      <td>NaN</td>\n",
              "      <td>2.145086e+06</td>\n",
              "      <td>14624041937</td>\n",
              "    </tr>\n",
              "  </tbody>\n",
              "</table>\n",
              "</div>"
            ],
            "text/plain": [
              "   OBJECTID  ORIGID  ...  SHAPE_Length   SHAPE_Area\n",
              "0      6397       1  ...  3.193486e+05   2432351721\n",
              "1      6398       2  ...  5.159545e+05   5575009911\n",
              "2      6399       3  ...  1.013949e+06   8722541706\n",
              "3      6400       4  ...  2.129949e+06  19529490886\n",
              "4      6401       5  ...  2.145086e+06  14624041937\n",
              "\n",
              "[5 rows x 17 columns]"
            ]
          },
          "metadata": {
            "tags": []
          },
          "execution_count": 7
        }
      ]
    },
    {
      "cell_type": "code",
      "metadata": {
        "colab": {
          "base_uri": "https://localhost:8080/"
        },
        "id": "bWHFPEb4nBP3",
        "outputId": "989c0080-7f8a-4db6-c1b5-271ea0272bdb"
      },
      "source": [
        "df.shape"
      ],
      "execution_count": 8,
      "outputs": [
        {
          "output_type": "execute_result",
          "data": {
            "text/plain": [
              "(572, 17)"
            ]
          },
          "metadata": {
            "tags": []
          },
          "execution_count": 8
        }
      ]
    },
    {
      "cell_type": "code",
      "metadata": {
        "id": "HdTw_f7VnDIQ"
      },
      "source": [
        "d = {'Low': 1, 'Medium': 2, 'High': 3} \n",
        "\n",
        "df['Covid Density'] = df['Covid Density'].map(d)\n",
        "Target_Names = {'Low','Medium','High'}\n"
      ],
      "execution_count": null,
      "outputs": []
    },
    {
      "cell_type": "code",
      "metadata": {
        "colab": {
          "base_uri": "https://localhost:8080/"
        },
        "id": "phPcksb_oVQt",
        "outputId": "aceee039-3d0b-405b-9a65-45e0fbfb9211"
      },
      "source": [
        "X = df[['Lat', 'Long', 'IGEasting', 'IGNorthing']].values\n",
        "y = df[['Covid Density']].values\n",
        "y = Y.reshape(572)\n",
        "\n",
        "print (X)\n"
      ],
      "execution_count": 18,
      "outputs": [
        {
          "output_type": "stream",
          "text": [
            "[[ 5.27168e+01 -6.83670e+00  2.78661e+05  1.63444e+05]\n",
            " [ 5.39878e+01 -7.29370e+00  2.46380e+05  3.04501e+05]\n",
            " [ 5.28917e+01 -8.98890e+00  1.33493e+05  1.82732e+05]\n",
            " ...\n",
            " [ 5.35524e+01 -7.42190e+00  2.38362e+05  2.55966e+05]\n",
            " [ 5.25164e+01 -6.50370e+00  3.01627e+05  1.41559e+05]\n",
            " [ 5.30205e+01 -6.34420e+00  3.11162e+05  1.97894e+05]]\n"
          ],
          "name": "stdout"
        }
      ]
    },
    {
      "cell_type": "code",
      "metadata": {
        "id": "FGp-OFN9oZoV"
      },
      "source": [
        "clf = tree.DecisionTreeClassifier()\n",
        "clf = clf.fit(X,y)"
      ],
      "execution_count": 19,
      "outputs": []
    },
    {
      "cell_type": "code",
      "metadata": {
        "colab": {
          "base_uri": "https://localhost:8080/",
          "height": 385
        },
        "id": "zIeMN2v4obGg",
        "outputId": "ca4bbb5a-b90e-43b9-ff2b-d5bf741decd2"
      },
      "source": [
        "Feature_Names = {'Lat','Long','IGEasting','IGNorthing'}\n",
        "dot_data = StringIO()  \n",
        "tree.export_graphviz(clf, out_file=dot_data,  \n",
        "                         feature_names=Feature_Names)   \n",
        "(graph,) = pydot.graph_from_dot_data(dot_data.getvalue())\n",
        "\n",
        "Image(graph.create_png())"
      ],
      "execution_count": 23,
      "outputs": [
        {
          "output_type": "error",
          "ename": "TypeError",
          "evalue": "ignored",
          "traceback": [
            "\u001b[0;31m---------------------------------------------------------------------------\u001b[0m",
            "\u001b[0;31mTypeError\u001b[0m                                 Traceback (most recent call last)",
            "\u001b[0;32m<ipython-input-23-184e569696d9>\u001b[0m in \u001b[0;36m<module>\u001b[0;34m()\u001b[0m\n\u001b[1;32m      2\u001b[0m \u001b[0mdot_data\u001b[0m \u001b[0;34m=\u001b[0m \u001b[0mStringIO\u001b[0m\u001b[0;34m(\u001b[0m\u001b[0;34m)\u001b[0m\u001b[0;34m\u001b[0m\u001b[0;34m\u001b[0m\u001b[0m\n\u001b[1;32m      3\u001b[0m tree.export_graphviz(clf, out_file=dot_data,  \n\u001b[0;32m----> 4\u001b[0;31m                          feature_names=Feature_Names)   \n\u001b[0m\u001b[1;32m      5\u001b[0m \u001b[0;34m(\u001b[0m\u001b[0mgraph\u001b[0m\u001b[0;34m,\u001b[0m\u001b[0;34m)\u001b[0m \u001b[0;34m=\u001b[0m \u001b[0mpydot\u001b[0m\u001b[0;34m.\u001b[0m\u001b[0mgraph_from_dot_data\u001b[0m\u001b[0;34m(\u001b[0m\u001b[0mdot_data\u001b[0m\u001b[0;34m.\u001b[0m\u001b[0mgetvalue\u001b[0m\u001b[0;34m(\u001b[0m\u001b[0;34m)\u001b[0m\u001b[0;34m)\u001b[0m\u001b[0;34m\u001b[0m\u001b[0;34m\u001b[0m\u001b[0m\n\u001b[1;32m      6\u001b[0m \u001b[0;34m\u001b[0m\u001b[0m\n",
            "\u001b[0;32m/usr/local/lib/python3.6/dist-packages/sklearn/tree/_export.py\u001b[0m in \u001b[0;36mexport_graphviz\u001b[0;34m(decision_tree, out_file, max_depth, feature_names, class_names, label, filled, leaves_parallel, impurity, node_ids, proportion, rotate, rounded, special_characters, precision)\u001b[0m\n\u001b[1;32m    762\u001b[0m             \u001b[0mrounded\u001b[0m\u001b[0;34m=\u001b[0m\u001b[0mrounded\u001b[0m\u001b[0;34m,\u001b[0m \u001b[0mspecial_characters\u001b[0m\u001b[0;34m=\u001b[0m\u001b[0mspecial_characters\u001b[0m\u001b[0;34m,\u001b[0m\u001b[0;34m\u001b[0m\u001b[0;34m\u001b[0m\u001b[0m\n\u001b[1;32m    763\u001b[0m             precision=precision)\n\u001b[0;32m--> 764\u001b[0;31m         \u001b[0mexporter\u001b[0m\u001b[0;34m.\u001b[0m\u001b[0mexport\u001b[0m\u001b[0;34m(\u001b[0m\u001b[0mdecision_tree\u001b[0m\u001b[0;34m)\u001b[0m\u001b[0;34m\u001b[0m\u001b[0;34m\u001b[0m\u001b[0m\n\u001b[0m\u001b[1;32m    765\u001b[0m \u001b[0;34m\u001b[0m\u001b[0m\n\u001b[1;32m    766\u001b[0m         \u001b[0;32mif\u001b[0m \u001b[0mreturn_string\u001b[0m\u001b[0;34m:\u001b[0m\u001b[0;34m\u001b[0m\u001b[0;34m\u001b[0m\u001b[0m\n",
            "\u001b[0;32m/usr/local/lib/python3.6/dist-packages/sklearn/tree/_export.py\u001b[0m in \u001b[0;36mexport\u001b[0;34m(self, decision_tree)\u001b[0m\n\u001b[1;32m    405\u001b[0m         \u001b[0;32melse\u001b[0m\u001b[0;34m:\u001b[0m\u001b[0;34m\u001b[0m\u001b[0;34m\u001b[0m\u001b[0m\n\u001b[1;32m    406\u001b[0m             self.recurse(decision_tree.tree_, 0,\n\u001b[0;32m--> 407\u001b[0;31m                          criterion=decision_tree.criterion)\n\u001b[0m\u001b[1;32m    408\u001b[0m \u001b[0;34m\u001b[0m\u001b[0m\n\u001b[1;32m    409\u001b[0m         \u001b[0mself\u001b[0m\u001b[0;34m.\u001b[0m\u001b[0mtail\u001b[0m\u001b[0;34m(\u001b[0m\u001b[0;34m)\u001b[0m\u001b[0;34m\u001b[0m\u001b[0;34m\u001b[0m\u001b[0m\n",
            "\u001b[0;32m/usr/local/lib/python3.6/dist-packages/sklearn/tree/_export.py\u001b[0m in \u001b[0;36mrecurse\u001b[0;34m(self, tree, node_id, criterion, parent, depth)\u001b[0m\n\u001b[1;32m    465\u001b[0m             self.out_file.write(\n\u001b[1;32m    466\u001b[0m                 '%d [label=%s' % (node_id, self.node_to_str(tree, node_id,\n\u001b[0;32m--> 467\u001b[0;31m                                                             criterion)))\n\u001b[0m\u001b[1;32m    468\u001b[0m \u001b[0;34m\u001b[0m\u001b[0m\n\u001b[1;32m    469\u001b[0m             \u001b[0;32mif\u001b[0m \u001b[0mself\u001b[0m\u001b[0;34m.\u001b[0m\u001b[0mfilled\u001b[0m\u001b[0;34m:\u001b[0m\u001b[0;34m\u001b[0m\u001b[0;34m\u001b[0m\u001b[0m\n",
            "\u001b[0;32m/usr/local/lib/python3.6/dist-packages/sklearn/tree/_export.py\u001b[0m in \u001b[0;36mnode_to_str\u001b[0;34m(self, tree, node_id, criterion)\u001b[0m\n\u001b[1;32m    267\u001b[0m             \u001b[0;31m# Always write node decision criteria, except for leaves\u001b[0m\u001b[0;34m\u001b[0m\u001b[0;34m\u001b[0m\u001b[0;34m\u001b[0m\u001b[0m\n\u001b[1;32m    268\u001b[0m             \u001b[0;32mif\u001b[0m \u001b[0mself\u001b[0m\u001b[0;34m.\u001b[0m\u001b[0mfeature_names\u001b[0m \u001b[0;32mis\u001b[0m \u001b[0;32mnot\u001b[0m \u001b[0;32mNone\u001b[0m\u001b[0;34m:\u001b[0m\u001b[0;34m\u001b[0m\u001b[0;34m\u001b[0m\u001b[0m\n\u001b[0;32m--> 269\u001b[0;31m                 \u001b[0mfeature\u001b[0m \u001b[0;34m=\u001b[0m \u001b[0mself\u001b[0m\u001b[0;34m.\u001b[0m\u001b[0mfeature_names\u001b[0m\u001b[0;34m[\u001b[0m\u001b[0mtree\u001b[0m\u001b[0;34m.\u001b[0m\u001b[0mfeature\u001b[0m\u001b[0;34m[\u001b[0m\u001b[0mnode_id\u001b[0m\u001b[0;34m]\u001b[0m\u001b[0;34m]\u001b[0m\u001b[0;34m\u001b[0m\u001b[0;34m\u001b[0m\u001b[0m\n\u001b[0m\u001b[1;32m    270\u001b[0m             \u001b[0;32melse\u001b[0m\u001b[0;34m:\u001b[0m\u001b[0;34m\u001b[0m\u001b[0;34m\u001b[0m\u001b[0m\n\u001b[1;32m    271\u001b[0m                 feature = \"X%s%s%s\" % (characters[1],\n",
            "\u001b[0;31mTypeError\u001b[0m: 'set' object does not support indexing"
          ]
        }
      ]
    },
    {
      "cell_type": "code",
      "metadata": {
        "id": "89RyFXnrtK8e"
      },
      "source": [
        "print (clf.predict([[60.96, -10.2, 257896, 512369]]))\n",
        "\n",
        "#print (clf.predict([[1, 55000, 3, 100]]))"
      ],
      "execution_count": null,
      "outputs": []
    }
  ]
}