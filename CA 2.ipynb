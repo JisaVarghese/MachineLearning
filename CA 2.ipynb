{
 "cells": [
  {
   "cell_type": "markdown",
   "metadata": {},
   "source": [
    "This Jupyter Notebook will be discussing 4 supervised Machine Learning Models used in Healthcare. \n"
   ]
  },
  {
   "cell_type": "markdown",
   "metadata": {},
   "source": [
    "Problem statement"
   ]
  },
  {
   "cell_type": "markdown",
   "metadata": {},
   "source": [
    "Our methods"
   ]
  },
  {
   "cell_type": "markdown",
   "metadata": {},
   "source": [
    "data used?"
   ]
  },
  {
   "cell_type": "markdown",
   "metadata": {},
   "source": [
    "#### REGRESSION ALGORITHMS"
   ]
  },
  {
   "cell_type": "markdown",
   "metadata": {},
   "source": [
    "###### Aim "
   ]
  },
  {
   "cell_type": "markdown",
   "metadata": {},
   "source": [
    "To predict the total expenditure in healthcare (HC.1 to HC.9) in the coming years in ireland using any of the Regression Algorithms"
   ]
  },
  {
   "cell_type": "markdown",
   "metadata": {},
   "source": [
    "###### Data"
   ]
  },
  {
   "cell_type": "markdown",
   "metadata": {},
   "source": [
    "The data used in this example is taken from data.gov.ie.\n",
    "\n",
    "The Data is about the expenditure in Euro Millions of various sectors in healthcare, provided over past 10 years\n",
    "\n",
    "Note : The data has many fields and we will be predicting only the expenditure in \"All Current Health Care Expenditure (HC.1 to HC.9)\" using its relation with \"Year\" "
   ]
  },
  {
   "cell_type": "markdown",
   "metadata": {},
   "source": [
    "###### SIMPLE  LINEAR  REGRESSION\n",
    "\n",
    "What?\n",
    "       \n",
    "     Statisctical model used to undestand relationship between independent(x) and dependent variables(y) using \n",
    "       simple linear regression equation \n",
    "             y = mx + c\n",
    "             \n",
    "             m (Slope) = y2-y1 / x2-x1\n",
    "             c = Coefficient of the line\n",
    "                  \n",
    "Why Linear Regression / When to choose?\n",
    "\n",
    "     > Data is labelled\n",
    "     > Data is numerical\n",
    "     > Predict relation between a single X and Y . Polynomial Regression can also be used for this if we are \n",
    "       not able to find the line and can find a curve (See below)\n",
    "    \n",
    "Terms in regression?\n",
    "\n",
    "      > Mean - Average of the data\n",
    "      > Residual/Error(E) - Difference between the actual and predticed Y values.\n",
    "      > E Square - Square of the residual/Error\n",
    "      > The best fitting reegression line will have the least value of E Square\n",
    "      > The distance between the line and the data can be minimized using various methods such as\n",
    "        Sum of square errors, Root Mean Square error, Sum of absolute errors\n",
    "      \n",
    "How does it work?\n",
    "\n",
    "      > Find the slope that best suits the train data\n",
    "      > Use the Esquare of Root Mean Square to reduse the errors\n",
    "      > Use the slope to predict the X value for the Y test data\n",
    " "
   ]
  },
  {
   "cell_type": "code",
   "execution_count": 256,
   "metadata": {},
   "outputs": [],
   "source": [
    "#import all the libraries required\n",
    "import matplotlib.pyplot as plt       #To plot the graph\n",
    "import numpy as np\n",
    "import pandas as pd\n",
    "%matplotlib inline\n",
    "from sklearn.metrics import r2_score  # To calculate the accuracy\n",
    "from pylab import *\n",
    "from scipy import stats "
   ]
  },
  {
   "cell_type": "code",
   "execution_count": 257,
   "metadata": {},
   "outputs": [
    {
     "data": {
      "text/html": [
       "<div>\n",
       "<style scoped>\n",
       "    .dataframe tbody tr th:only-of-type {\n",
       "        vertical-align: middle;\n",
       "    }\n",
       "\n",
       "    .dataframe tbody tr th {\n",
       "        vertical-align: top;\n",
       "    }\n",
       "\n",
       "    .dataframe thead th {\n",
       "        text-align: right;\n",
       "    }\n",
       "</style>\n",
       "<table border=\"1\" class=\"dataframe\">\n",
       "  <thead>\n",
       "    <tr style=\"text-align: right;\">\n",
       "      <th></th>\n",
       "      <th>Year</th>\n",
       "      <th>All Current Health Care Expenditure (HC.1 to HC.9)</th>\n",
       "      <th>Curative and Rehabilitative Care (HC.1+HC.2)</th>\n",
       "      <th>Inpatient Curative &amp; Rehabilitative Care (HC.1.1+HC.2.1)</th>\n",
       "      <th>Day Curative and Rehabilitative Care (HC.1.2+HC.2.2)</th>\n",
       "      <th>Outpatient Curative &amp; Rehabilitative Care (HC.1.3+HC.2.3)</th>\n",
       "      <th>Home-Based Curative &amp; Rehabilitative Care  (HC.1.4+HC.2.4)</th>\n",
       "      <th>Long-Term Care (Health) (HC.3)</th>\n",
       "      <th>Inpatient Long-Term Care (Health) (HC.3.1)</th>\n",
       "      <th>Day Long-Term Care (Health) (HC.3.2)</th>\n",
       "      <th>...</th>\n",
       "      <th>Immunisation Programmes (HC.6.2)</th>\n",
       "      <th>Early Disease Detection Programmes (HC.6.3)</th>\n",
       "      <th>Healthy Condition Monitoring Programmes (HC.6.4)</th>\n",
       "      <th>Epidemiological Surveillance, Disease Control Programmes (HC.6.5)</th>\n",
       "      <th>Preparing for Disaster and Emergency Response Programmes (HC.6.6)</th>\n",
       "      <th>Preventative Care N.E.C</th>\n",
       "      <th>Governance and Health System Administration and Financing (HC.7)</th>\n",
       "      <th>Govt Health Administration Agencies (HC.7.1)</th>\n",
       "      <th>Administration of Health Financing (HC.7.2)</th>\n",
       "      <th>Health Care Services N.E.C (HC.9)</th>\n",
       "    </tr>\n",
       "  </thead>\n",
       "  <tbody>\n",
       "    <tr>\n",
       "      <th>0</th>\n",
       "      <td>2011</td>\n",
       "      <td>18281</td>\n",
       "      <td>9844</td>\n",
       "      <td>4449.0</td>\n",
       "      <td>1276.0</td>\n",
       "      <td>3540.0</td>\n",
       "      <td>579.0</td>\n",
       "      <td>4022</td>\n",
       "      <td>2473.0</td>\n",
       "      <td>176.0</td>\n",
       "      <td>...</td>\n",
       "      <td>51.0</td>\n",
       "      <td>66.0</td>\n",
       "      <td>207.0</td>\n",
       "      <td>83.0</td>\n",
       "      <td>2.0</td>\n",
       "      <td>66.0</td>\n",
       "      <td>378</td>\n",
       "      <td>144.0</td>\n",
       "      <td>234.0</td>\n",
       "      <td>140</td>\n",
       "    </tr>\n",
       "    <tr>\n",
       "      <th>1</th>\n",
       "      <td>2012</td>\n",
       "      <td>18701</td>\n",
       "      <td>9944</td>\n",
       "      <td>4495.0</td>\n",
       "      <td>1297.0</td>\n",
       "      <td>3533.0</td>\n",
       "      <td>618.0</td>\n",
       "      <td>4230</td>\n",
       "      <td>2661.0</td>\n",
       "      <td>170.0</td>\n",
       "      <td>...</td>\n",
       "      <td>50.0</td>\n",
       "      <td>64.0</td>\n",
       "      <td>200.0</td>\n",
       "      <td>80.0</td>\n",
       "      <td>2.0</td>\n",
       "      <td>66.0</td>\n",
       "      <td>428</td>\n",
       "      <td>148.0</td>\n",
       "      <td>280.0</td>\n",
       "      <td>152</td>\n",
       "    </tr>\n",
       "    <tr>\n",
       "      <th>2</th>\n",
       "      <td>2013</td>\n",
       "      <td>18505</td>\n",
       "      <td>9968</td>\n",
       "      <td>4409.0</td>\n",
       "      <td>1252.0</td>\n",
       "      <td>3663.0</td>\n",
       "      <td>644.0</td>\n",
       "      <td>4070</td>\n",
       "      <td>2483.0</td>\n",
       "      <td>167.0</td>\n",
       "      <td>...</td>\n",
       "      <td>44.0</td>\n",
       "      <td>61.0</td>\n",
       "      <td>193.0</td>\n",
       "      <td>82.0</td>\n",
       "      <td>2.0</td>\n",
       "      <td>75.0</td>\n",
       "      <td>492</td>\n",
       "      <td>174.0</td>\n",
       "      <td>318.0</td>\n",
       "      <td>143</td>\n",
       "    </tr>\n",
       "    <tr>\n",
       "      <th>3</th>\n",
       "      <td>2014</td>\n",
       "      <td>18850</td>\n",
       "      <td>10082</td>\n",
       "      <td>4591.0</td>\n",
       "      <td>1267.0</td>\n",
       "      <td>3543.0</td>\n",
       "      <td>681.0</td>\n",
       "      <td>4243</td>\n",
       "      <td>2564.0</td>\n",
       "      <td>170.0</td>\n",
       "      <td>...</td>\n",
       "      <td>43.0</td>\n",
       "      <td>62.0</td>\n",
       "      <td>183.0</td>\n",
       "      <td>76.0</td>\n",
       "      <td>2.0</td>\n",
       "      <td>82.0</td>\n",
       "      <td>630</td>\n",
       "      <td>182.0</td>\n",
       "      <td>447.0</td>\n",
       "      <td>151</td>\n",
       "    </tr>\n",
       "    <tr>\n",
       "      <th>4</th>\n",
       "      <td>2015</td>\n",
       "      <td>19232</td>\n",
       "      <td>10518</td>\n",
       "      <td>4805.0</td>\n",
       "      <td>1323.0</td>\n",
       "      <td>3680.0</td>\n",
       "      <td>709.0</td>\n",
       "      <td>4176</td>\n",
       "      <td>2538.0</td>\n",
       "      <td>178.0</td>\n",
       "      <td>...</td>\n",
       "      <td>47.0</td>\n",
       "      <td>61.0</td>\n",
       "      <td>178.0</td>\n",
       "      <td>75.0</td>\n",
       "      <td>2.0</td>\n",
       "      <td>81.0</td>\n",
       "      <td>563</td>\n",
       "      <td>179.0</td>\n",
       "      <td>384.0</td>\n",
       "      <td>161</td>\n",
       "    </tr>\n",
       "    <tr>\n",
       "      <th>5</th>\n",
       "      <td>2016</td>\n",
       "      <td>20143</td>\n",
       "      <td>11099</td>\n",
       "      <td>5078.0</td>\n",
       "      <td>1402.0</td>\n",
       "      <td>3964.0</td>\n",
       "      <td>655.0</td>\n",
       "      <td>4348</td>\n",
       "      <td>2601.0</td>\n",
       "      <td>189.0</td>\n",
       "      <td>...</td>\n",
       "      <td>42.0</td>\n",
       "      <td>62.0</td>\n",
       "      <td>189.0</td>\n",
       "      <td>79.0</td>\n",
       "      <td>NaN</td>\n",
       "      <td>82.0</td>\n",
       "      <td>551</td>\n",
       "      <td>185.0</td>\n",
       "      <td>367.0</td>\n",
       "      <td>171</td>\n",
       "    </tr>\n",
       "    <tr>\n",
       "      <th>6</th>\n",
       "      <td>2017</td>\n",
       "      <td>21259</td>\n",
       "      <td>11742</td>\n",
       "      <td>5339.0</td>\n",
       "      <td>1547.0</td>\n",
       "      <td>4153.0</td>\n",
       "      <td>703.0</td>\n",
       "      <td>4529</td>\n",
       "      <td>2620.0</td>\n",
       "      <td>194.0</td>\n",
       "      <td>...</td>\n",
       "      <td>53.0</td>\n",
       "      <td>68.0</td>\n",
       "      <td>195.0</td>\n",
       "      <td>82.0</td>\n",
       "      <td>NaN</td>\n",
       "      <td>85.0</td>\n",
       "      <td>628</td>\n",
       "      <td>199.0</td>\n",
       "      <td>428.0</td>\n",
       "      <td>203</td>\n",
       "    </tr>\n",
       "    <tr>\n",
       "      <th>7</th>\n",
       "      <td>2018</td>\n",
       "      <td>22452</td>\n",
       "      <td>12536</td>\n",
       "      <td>5720.0</td>\n",
       "      <td>1645.0</td>\n",
       "      <td>4458.0</td>\n",
       "      <td>712.0</td>\n",
       "      <td>4817</td>\n",
       "      <td>2748.0</td>\n",
       "      <td>210.0</td>\n",
       "      <td>...</td>\n",
       "      <td>45.0</td>\n",
       "      <td>77.0</td>\n",
       "      <td>203.0</td>\n",
       "      <td>80.0</td>\n",
       "      <td>2.0</td>\n",
       "      <td>92.0</td>\n",
       "      <td>628</td>\n",
       "      <td>248.0</td>\n",
       "      <td>380.0</td>\n",
       "      <td>192</td>\n",
       "    </tr>\n",
       "    <tr>\n",
       "      <th>8</th>\n",
       "      <td>2019</td>\n",
       "      <td>23754</td>\n",
       "      <td>13267</td>\n",
       "      <td>NaN</td>\n",
       "      <td>NaN</td>\n",
       "      <td>NaN</td>\n",
       "      <td>NaN</td>\n",
       "      <td>5115</td>\n",
       "      <td>NaN</td>\n",
       "      <td>NaN</td>\n",
       "      <td>...</td>\n",
       "      <td>NaN</td>\n",
       "      <td>NaN</td>\n",
       "      <td>NaN</td>\n",
       "      <td>NaN</td>\n",
       "      <td>NaN</td>\n",
       "      <td>NaN</td>\n",
       "      <td>676</td>\n",
       "      <td>NaN</td>\n",
       "      <td>NaN</td>\n",
       "      <td>193</td>\n",
       "    </tr>\n",
       "  </tbody>\n",
       "</table>\n",
       "<p>9 rows × 31 columns</p>\n",
       "</div>"
      ],
      "text/plain": [
       "   Year  All Current Health Care Expenditure (HC.1 to HC.9)  \\\n",
       "0  2011                                              18281    \n",
       "1  2012                                              18701    \n",
       "2  2013                                              18505    \n",
       "3  2014                                              18850    \n",
       "4  2015                                              19232    \n",
       "5  2016                                              20143    \n",
       "6  2017                                              21259    \n",
       "7  2018                                              22452    \n",
       "8  2019                                              23754    \n",
       "\n",
       "   Curative and Rehabilitative Care (HC.1+HC.2)  \\\n",
       "0                                          9844   \n",
       "1                                          9944   \n",
       "2                                          9968   \n",
       "3                                         10082   \n",
       "4                                         10518   \n",
       "5                                         11099   \n",
       "6                                         11742   \n",
       "7                                         12536   \n",
       "8                                         13267   \n",
       "\n",
       "   Inpatient Curative & Rehabilitative Care (HC.1.1+HC.2.1)  \\\n",
       "0                                             4449.0          \n",
       "1                                             4495.0          \n",
       "2                                             4409.0          \n",
       "3                                             4591.0          \n",
       "4                                             4805.0          \n",
       "5                                             5078.0          \n",
       "6                                             5339.0          \n",
       "7                                             5720.0          \n",
       "8                                                NaN          \n",
       "\n",
       "   Day Curative and Rehabilitative Care (HC.1.2+HC.2.2)  \\\n",
       "0                                             1276.0      \n",
       "1                                             1297.0      \n",
       "2                                             1252.0      \n",
       "3                                             1267.0      \n",
       "4                                             1323.0      \n",
       "5                                             1402.0      \n",
       "6                                             1547.0      \n",
       "7                                             1645.0      \n",
       "8                                                NaN      \n",
       "\n",
       "   Outpatient Curative & Rehabilitative Care (HC.1.3+HC.2.3)  \\\n",
       "0                                             3540.0           \n",
       "1                                             3533.0           \n",
       "2                                             3663.0           \n",
       "3                                             3543.0           \n",
       "4                                             3680.0           \n",
       "5                                             3964.0           \n",
       "6                                             4153.0           \n",
       "7                                             4458.0           \n",
       "8                                                NaN           \n",
       "\n",
       "   Home-Based Curative & Rehabilitative Care  (HC.1.4+HC.2.4)  \\\n",
       "0                                              579.0            \n",
       "1                                              618.0            \n",
       "2                                              644.0            \n",
       "3                                              681.0            \n",
       "4                                              709.0            \n",
       "5                                              655.0            \n",
       "6                                              703.0            \n",
       "7                                              712.0            \n",
       "8                                                NaN            \n",
       "\n",
       "   Long-Term Care (Health) (HC.3)  Inpatient Long-Term Care (Health) (HC.3.1)  \\\n",
       "0                            4022                                      2473.0   \n",
       "1                            4230                                      2661.0   \n",
       "2                            4070                                      2483.0   \n",
       "3                            4243                                      2564.0   \n",
       "4                            4176                                      2538.0   \n",
       "5                            4348                                      2601.0   \n",
       "6                            4529                                      2620.0   \n",
       "7                            4817                                      2748.0   \n",
       "8                            5115                                         NaN   \n",
       "\n",
       "   Day Long-Term Care (Health) (HC.3.2)  ...  \\\n",
       "0                                 176.0  ...   \n",
       "1                                 170.0  ...   \n",
       "2                                 167.0  ...   \n",
       "3                                 170.0  ...   \n",
       "4                                 178.0  ...   \n",
       "5                                 189.0  ...   \n",
       "6                                 194.0  ...   \n",
       "7                                 210.0  ...   \n",
       "8                                   NaN  ...   \n",
       "\n",
       "   Immunisation Programmes (HC.6.2)  \\\n",
       "0                              51.0   \n",
       "1                              50.0   \n",
       "2                              44.0   \n",
       "3                              43.0   \n",
       "4                              47.0   \n",
       "5                              42.0   \n",
       "6                              53.0   \n",
       "7                              45.0   \n",
       "8                               NaN   \n",
       "\n",
       "   Early Disease Detection Programmes (HC.6.3)  \\\n",
       "0                                         66.0   \n",
       "1                                         64.0   \n",
       "2                                         61.0   \n",
       "3                                         62.0   \n",
       "4                                         61.0   \n",
       "5                                         62.0   \n",
       "6                                         68.0   \n",
       "7                                         77.0   \n",
       "8                                          NaN   \n",
       "\n",
       "   Healthy Condition Monitoring Programmes (HC.6.4)  \\\n",
       "0                                             207.0   \n",
       "1                                             200.0   \n",
       "2                                             193.0   \n",
       "3                                             183.0   \n",
       "4                                             178.0   \n",
       "5                                             189.0   \n",
       "6                                             195.0   \n",
       "7                                             203.0   \n",
       "8                                               NaN   \n",
       "\n",
       "   Epidemiological Surveillance, Disease Control Programmes (HC.6.5)  \\\n",
       "0                                               83.0                   \n",
       "1                                               80.0                   \n",
       "2                                               82.0                   \n",
       "3                                               76.0                   \n",
       "4                                               75.0                   \n",
       "5                                               79.0                   \n",
       "6                                               82.0                   \n",
       "7                                               80.0                   \n",
       "8                                                NaN                   \n",
       "\n",
       "   Preparing for Disaster and Emergency Response Programmes (HC.6.6)  \\\n",
       "0                                                2.0                   \n",
       "1                                                2.0                   \n",
       "2                                                2.0                   \n",
       "3                                                2.0                   \n",
       "4                                                2.0                   \n",
       "5                                                NaN                   \n",
       "6                                                NaN                   \n",
       "7                                                2.0                   \n",
       "8                                                NaN                   \n",
       "\n",
       "   Preventative Care N.E.C  \\\n",
       "0                     66.0   \n",
       "1                     66.0   \n",
       "2                     75.0   \n",
       "3                     82.0   \n",
       "4                     81.0   \n",
       "5                     82.0   \n",
       "6                     85.0   \n",
       "7                     92.0   \n",
       "8                      NaN   \n",
       "\n",
       "   Governance and Health System Administration and Financing (HC.7)  \\\n",
       "0                                                378                  \n",
       "1                                                428                  \n",
       "2                                                492                  \n",
       "3                                                630                  \n",
       "4                                                563                  \n",
       "5                                                551                  \n",
       "6                                                628                  \n",
       "7                                                628                  \n",
       "8                                                676                  \n",
       "\n",
       "   Govt Health Administration Agencies (HC.7.1)  \\\n",
       "0                                         144.0   \n",
       "1                                         148.0   \n",
       "2                                         174.0   \n",
       "3                                         182.0   \n",
       "4                                         179.0   \n",
       "5                                         185.0   \n",
       "6                                         199.0   \n",
       "7                                         248.0   \n",
       "8                                           NaN   \n",
       "\n",
       "   Administration of Health Financing (HC.7.2)  \\\n",
       "0                                        234.0   \n",
       "1                                        280.0   \n",
       "2                                        318.0   \n",
       "3                                        447.0   \n",
       "4                                        384.0   \n",
       "5                                        367.0   \n",
       "6                                        428.0   \n",
       "7                                        380.0   \n",
       "8                                          NaN   \n",
       "\n",
       "   Health Care Services N.E.C (HC.9)  \n",
       "0                                140  \n",
       "1                                152  \n",
       "2                                143  \n",
       "3                                151  \n",
       "4                                161  \n",
       "5                                171  \n",
       "6                                203  \n",
       "7                                192  \n",
       "8                                193  \n",
       "\n",
       "[9 rows x 31 columns]"
      ]
     },
     "execution_count": 257,
     "metadata": {},
     "output_type": "execute_result"
    }
   ],
   "source": [
    "#Load Data to the variable \"df\"\n",
    "df = pd.read_csv(\"ExpenditureData.csv\")\n",
    "df.head(10)"
   ]
  },
  {
   "cell_type": "markdown",
   "metadata": {},
   "source": [
    "###### DATA PREPROCESSING"
   ]
  },
  {
   "cell_type": "code",
   "execution_count": 258,
   "metadata": {},
   "outputs": [
    {
     "data": {
      "text/plain": [
       "Text(0, 0.5, 'All Current Health Care Expenditure (HC.1 to HC.9) (In Euro Million)')"
      ]
     },
     "execution_count": 258,
     "metadata": {},
     "output_type": "execute_result"
    },
    {
     "data": {
      "image/png": "[encoded data removed]",
      "text/plain": [
       "<Figure size 432x288 with 1 Axes>"
      ]
     },
     "metadata": {
      "needs_background": "light"
     },
     "output_type": "display_data"
    }
   ],
   "source": [
    "#Chosing 2 variables we want to find realtion between and then use the realtion to predict the value\n",
    "#This 2 variables can be any 2 columns from the data frame\n",
    "# We are choosing 'All Current Health Care Expenditure (HC.1 to HC.9)' as our dependant and \"year\" as independent variable\n",
    "\n",
    "year = df['Year']\n",
    "Expenditure = df['All Current Health Care Expenditure (HC.1 to HC.9)']\n",
    "\n",
    "\n",
    "#Usually for a lager dataset, the data is split to train and test sets at this point\n",
    "#The train set is used to train the model and test is used to test the accuracy.\n",
    "#However, we have a very small dataset here of 9 rows and hence splitting it further won't be a good approach.\n",
    "#Because after the split eventhough the model might show higher accuracy in training, the test accuracy can be slow due to lack of enough training data\n",
    "#Splitting with Test and Train data approach is used in the Classification model (See Below)\n",
    "\n",
    "#scatter the training data to the plot\n",
    "scatter(year ,Expenditure)\n",
    "\n",
    "# Adding labels\n",
    "plt.xlabel(\"Year\")\n",
    "plt.ylabel(\"All Current Health Care Expenditure (HC.1 to HC.9) (In Euro Million)\")"
   ]
  },
  {
   "cell_type": "markdown",
   "metadata": {},
   "source": [
    "###### IMPLEMENTING LINEAR REGRESSION"
   ]
  },
  {
   "cell_type": "code",
   "execution_count": 259,
   "metadata": {},
   "outputs": [
    {
     "name": "stdout",
     "output_type": "stream",
     "text": [
      "Slope of the regression line :  665.7666666666668\n",
      "Intercept of the regression line :  -1321389.0555555557\n",
      "Correlation coefficient or rvalue :  0.9361511512965179\n",
      "pvalue :  0.0002033765865279042\n",
      "Standard error of the estimated gradient. :  94.50901051636862\n"
     ]
    }
   ],
   "source": [
    "#Finding the characteristics needed to plot the regression line that lies closer to the data set\n",
    "# This is done using the \"stats\" module provided by \"Scipy\" library \n",
    "\n",
    "slope, intercept, r_value, p_value, std_err = stats.linregress(df['Year'] , df['All Current Health Care Expenditure (HC.1 to HC.9)'])\n",
    "\n",
    "#Slope is the steepness of a line\n",
    "#Intercept is the location where it intersects an axis\n",
    "#r_value is the correlation coefficient between the actual y and predicted y value\n",
    "#p_value is the probability that the null hypothesis is true\n",
    "\n",
    "print(\"Slope of the regression line : \" , slope );\n",
    "print(\"Intercept of the regression line : \" , intercept );\n",
    "print(\"Correlation coefficient or rvalue : \" , r_value );\n",
    "print(\"pvalue : \" , p_value );\n",
    "print(\"Standard error of the estimated gradient. : \" , std_err );"
   ]
  },
  {
   "cell_type": "code",
   "execution_count": 260,
   "metadata": {},
   "outputs": [
    {
     "data": {
      "image/png": "[encoded data removed]",
      "text/plain": [
       "<Figure size 432x288 with 1 Axes>"
      ]
     },
     "metadata": {
      "needs_background": "light"
     },
     "output_type": "display_data"
    }
   ],
   "source": [
    "#Adding labels and plotting the datasets\n",
    "\n",
    "plt.xlabel(\"Year\")\n",
    "plt.ylabel(\"All Current Health Care Expenditure (HC.1 to HC.9) (In Euro Million)\")\n",
    "plt.scatter(year, Expenditure)\n",
    "\n",
    "#put the prediction equation in a method for clean coding pratcises\n",
    "def predict(year):\n",
    "    return slope*year + intercept\n",
    "\n",
    "\n",
    "#call the predict method so it return the line closely fitting to the years after calculating through the equation\n",
    "fitline = predict(year) \n",
    "\n",
    "# the Line is drawn with color(c) 'red' \n",
    "plt.plot(year, fitline, c='r')\n",
    "\n",
    "# printing the graph\n",
    "plt.show()"
   ]
  },
  {
   "cell_type": "markdown",
   "metadata": {},
   "source": [
    "Observation : The line is not covering all the points, but let us try predicting first "
   ]
  },
  {
   "cell_type": "code",
   "execution_count": 261,
   "metadata": {},
   "outputs": [
    {
     "name": "stdout",
     "output_type": "stream",
     "text": [
      "The total expenditure for all the health sector in the year of 2018 might be 22128.0777777778 Euro Millions Approx\n",
      "The total expenditure for all the health sector in the year of 2019 might be 22793.844444444403 Euro Millions Approx\n",
      "The total expenditure for all the health sector in the year of 2020 might be 23459.61111111124 Euro Millions Approx\n",
      "The total expenditure for all the health sector in the year of 2021 might be 24125.377777777845 Euro Millions Approx\n",
      "The total expenditure for all the health sector in the year of 2022 might be 24791.14444444445 Euro Millions Approx\n"
     ]
    }
   ],
   "source": [
    "#Predicting the expenditure in Euro Millions for all the Healthcare sector in the year 2018 & 2019\n",
    "print (\"The total expenditure for all the health sector in the year of 2018 might be\",predict(2018),\"Euro Millions Approx\") \n",
    "print (\"The total expenditure for all the health sector in the year of 2019 might be\",predict(2019),\"Euro Millions Approx\") \n",
    "print (\"The total expenditure for all the health sector in the year of 2020 might be\",predict(2020),\"Euro Millions Approx\") \n",
    "print (\"The total expenditure for all the health sector in the year of 2021 might be\",predict(2021),\"Euro Millions Approx\") \n",
    "print (\"The total expenditure for all the health sector in the year of 2022 might be\",predict(2022),\"Euro Millions Approx\") "
   ]
  },
  {
   "cell_type": "code",
   "execution_count": 262,
   "metadata": {},
   "outputs": [
    {
     "data": {
      "text/plain": [
       "0.8763789780737961"
      ]
     },
     "execution_count": 262,
     "metadata": {},
     "output_type": "execute_result"
    }
   ],
   "source": [
    "#Finding the R-Squared value from the correlation coefficient (see above code)\n",
    "#This will indicate the accuracy of any regression model. This ranges from 0 to 1 which can be stated as 0% to 100%\n",
    "#The below equation \n",
    "\n",
    "r_value ** 2\n"
   ]
  },
  {
   "cell_type": "markdown",
   "metadata": {},
   "source": [
    "Observation : Linear Regression on our data shows that it will predict the expenditure of all the sectors in healthcare in Ireland 87.6% accurately. This is a good model. Let us apply Polynomial regression and check if we can achieve higher accuracy without overfitting"
   ]
  },
  {
   "cell_type": "markdown",
   "metadata": {},
   "source": [
    "###### POLYNOMIAL REGRESSION  \n",
    "\n",
    "\n",
    "What?\n",
    "     \n",
    "    > Polynomial regression is a model which uses a non-linear relationship between the independent and dependent variables\n",
    "      to predict the target variable\n",
    "    \n",
    "Why / When to choose?\n",
    "\n",
    "    > This is also a regression  model and should be chosen if data is numerical\n",
    "    > The correlation between the variables are not always linear, to handle these cases we use polynomials \n",
    "      to represent the realtions\n",
    "    \n",
    "       Note: Polynomial Regression uses the same terms and math like linear regression \n"
   ]
  },
  {
   "cell_type": "code",
   "execution_count": 263,
   "metadata": {
    "scrolled": true
   },
   "outputs": [
    {
     "name": "stdout",
     "output_type": "stream",
     "text": [
      "R2 vlaue for Polynomial Function with degree 1 :  0.8763789780737961\n",
      "R2 vlaue for Polynomial Function with degree 2 :  0.9938777763571148\n",
      "R2 vlaue for Polynomial Function with degree 3 :  0.9941627534384906\n",
      "R2 vlaue for Polynomial Function with degree 4 :  0.99838377886423\n"
     ]
    }
   ],
   "source": [
    "\n",
    "#funtion for finding the polynomial equation \n",
    "# 1 indicates the degree of the eqution\n",
    "\n",
    "p2 = np.poly1d(np.polyfit(year, Expenditure, 1))\n",
    "r2 = r2_score(Expenditure,p2(year))\n",
    "print(\"R2 vlaue for Polynomial Function with degree 1 : \" , r2)\n",
    "\n",
    "p2 = np.poly1d(np.polyfit(year, Expenditure, 2))\n",
    "r2 = r2_score(Expenditure,p2(year))\n",
    "print(\"R2 vlaue for Polynomial Function with degree 2 : \" , r2)\n",
    "\n",
    "p2 = np.poly1d(np.polyfit(year, Expenditure, 3))\n",
    "r2 = r2_score(Expenditure,p2(year))\n",
    "print(\"R2 vlaue for Polynomial Function with degree 3 : \" , r2)\n",
    "\n",
    "p2 = np.poly1d(np.polyfit(year, Expenditure, 4))\n",
    "r2 = r2_score(Expenditure,p2(year))\n",
    "print(\"R2 vlaue for Polynomial Function with degree 4 : \" , r2)\n",
    "\n"
   ]
  },
  {
   "cell_type": "markdown",
   "metadata": {},
   "source": [
    "Observation : The improvement we achieve by increasing the degree of the polynomial from 2 and above do not yeild much improvement in r2 score.\n",
    "Hence the Polynomial degree = 2 will be set for this dataset"
   ]
  },
  {
   "cell_type": "code",
   "execution_count": 264,
   "metadata": {},
   "outputs": [
    {
     "name": "stdout",
     "output_type": "stream",
     "text": [
      "The polynomial equation is:        2\n",
      "107.6 x - 4.329e+05 x + 4.355e+08\n"
     ]
    },
    {
     "data": {
      "image/png": "[encoded data removed]",
      "text/plain": [
       "<Figure size 432x288 with 1 Axes>"
      ]
     },
     "metadata": {
      "needs_background": "light"
     },
     "output_type": "display_data"
    }
   ],
   "source": [
    "\n",
    "p2 = np.poly1d(np.polyfit(year,Expenditure,2))\n",
    "print (\"The polynomial equation is:\",p2)\n",
    "\n",
    "#Finding th correct linespace for 'X'\n",
    "xp = np.linspace(2011, 2019, 100)\n",
    "\n",
    "plt.scatter(year,Expenditure)\n",
    "plt.xlabel(\"Year\")\n",
    "plt.ylabel(\"All Current Health Care Expenditure (HC.1 to HC.9) (In Euro Million)\")\n",
    "\n",
    "#The Line is drawn\n",
    "#plot the training set\n",
    "plt.plot(xp,p2(xp), c='r')\n",
    "\n",
    "# printing the graph\n",
    "plt.show()"
   ]
  },
  {
   "cell_type": "code",
   "execution_count": 265,
   "metadata": {},
   "outputs": [
    {
     "name": "stdout",
     "output_type": "stream",
     "text": [
      "The total expenditure for all the health sector in the year of 2018 might be 22379.133333027363 Euro Millions Approx\n",
      "The total expenditure for all the health sector in the year of 2019 might be 23798.066666305065 Euro Millions Approx\n",
      "The total expenditure for all the health sector in the year of 2020 might be 25432.190475702286 Euro Millions Approx\n",
      "The total expenditure for all the health sector in the year of 2021 might be 27281.50476127863 Euro Millions Approx\n",
      "The total expenditure for all the health sector in the year of 2022 might be 29346.009523034096 Euro Millions Approx\n"
     ]
    }
   ],
   "source": [
    "#Predicting the expenditure in Euro Millions for all the Healthcare sector in the year 2018 & 2019\n",
    "print (\"The total expenditure for all the health sector in the year of 2018 might be\",p2(2018),\"Euro Millions Approx\") \n",
    "print (\"The total expenditure for all the health sector in the year of 2019 might be\",p2(2019),\"Euro Millions Approx\") \n",
    "print (\"The total expenditure for all the health sector in the year of 2020 might be\",p2(2020),\"Euro Millions Approx\") \n",
    "print (\"The total expenditure for all the health sector in the year of 2021 might be\",p2(2021),\"Euro Millions Approx\") \n",
    "print (\"The total expenditure for all the health sector in the year of 2022 might be\",p2(2022),\"Euro Millions Approx\") "
   ]
  },
  {
   "cell_type": "code",
   "execution_count": 266,
   "metadata": {},
   "outputs": [
    {
     "data": {
      "text/plain": [
       "0.9938777763571148"
      ]
     },
     "execution_count": 266,
     "metadata": {},
     "output_type": "execute_result"
    }
   ],
   "source": [
    "#Finding the R-Squared value from the correlation coefficient (see above code)\n",
    "#This will indicate the accuracy of any regression model. This ranges from 0 to 1 which can be stated as 0% to 100%\n",
    "#The below equation \n",
    "\n",
    "r2 = r2_score(Expenditure,p2(year))\n",
    "r2"
   ]
  },
  {
   "cell_type": "markdown",
   "metadata": {},
   "source": [
    "Observation : Even though the polynomial equation with degree 2 gives the best accuracy of 99.3% \n",
    "    it is not the perfect fit for our data.\n",
    "    This is beacuse of 2 reasons, we have a very few data set and hence the model is not trained effectively.\n",
    "    Also 99% of accuracy clearly shows that it is an overfit for any of the ML models"
   ]
  },
  {
   "cell_type": "markdown",
   "metadata": {},
   "source": [
    "Conclusion: The expenditure of the coming years for All the healthsectors together can be found using the \n",
    "            linear regression model\n",
    "            This model has 87.63% accuracy.\n",
    "            Polynomial regression is an overfit on this data set.\n",
    "    "
   ]
  },
  {
   "cell_type": "markdown",
   "metadata": {},
   "source": [
    "#### CLASSIFICATION ALGORITHMS"
   ]
  },
  {
   "cell_type": "markdown",
   "metadata": {},
   "source": [
    "###### Aim"
   ]
  },
  {
   "cell_type": "markdown",
   "metadata": {},
   "source": [
    "We will be implementing both KNN and Decision Tree classification Algorithms to predict the case Type data set. "
   ]
  },
  {
   "cell_type": "markdown",
   "metadata": {},
   "source": [
    "###### Data"
   ]
  },
  {
   "cell_type": "markdown",
   "metadata": {},
   "source": [
    "The data used in this example is taken from data.gov.ie.\n",
    "\n",
    "Data set used is the data of patients in the Endocronolgy department of Ireland East Hospital Group within the speciality of General Medicine and General Science. \n",
    "\n",
    "Note : The data has many fields and we will be predicting only the CaseType in General Science and General Medicie department using its relation with \"Year\" \n",
    "\n",
    "\n"
   ]
  },
  {
   "cell_type": "markdown",
   "metadata": {},
   "source": [
    "###### K-NEAREST NEIGHBORS (KNN)\n",
    "\n",
    "What?\n",
    "\n",
    "    kNN is one of the simplest supervised classification Algorithms. It Works on the basis of feature similarity and \n",
    "    calculating the nearest neighbor using the Euclidean distance\n",
    "      \n",
    "Why KNN / When to choose?\n",
    "\n",
    "     > Data is labelled\n",
    "     > Data is noise free (not much variety of data)\n",
    "     > Small dataset\n",
    "    \n",
    "Terms?\n",
    "\n",
    "      > The data point to be classified will be voted majority by its K nearest neighbors. \n",
    "        Meaning that the data point will be classfied in to the class with the highest vote. \n",
    "      > 'K' is chosen via parameter tuning as this plays a crucial role in the accuracy of the algorithm. \n",
    "        if the 'K' is too low it can be a biased answer/prediction. If 'K' is too high we can have performance issues.\n",
    "      > The most common way to choose 'K' is to take the Square root of 'n', 'n' being the total number of data points. \n",
    "        If even round to odd (+/- 1)\n",
    "      > Euclidean Distance\n",
    "          Distance between 2 points(a,b) in an xy plane can be calculated as\n",
    "                D = SquareRoot ((x-a)^2 + (y-b)^2)\n",
    "          \n",
    "How does it work?\n",
    "\n",
    "     > Cacluate the distance to each data point from our data point we want to predict using Euclidean Distance\n",
    "     > Find the 'k' nearest neighbors or 'K' data points with the least Euclidean Distance\n",
    "     > check what class does those 'k' neighbors fall into\n",
    "     > Take the majority of the class among those neighbors (thats why we need 'k' as odd, so that we have \n",
    "       a majority after vote, to avoid a tie)\n",
    "     > Result : Our data point falls into the majority class, as its nearest neighbors fall in to that class.\n",
    " \n"
   ]
  },
  {
   "cell_type": "code",
   "execution_count": 267,
   "metadata": {},
   "outputs": [],
   "source": [
    "import pandas as pd\n",
    "import io\n",
    "import numpy as np\n",
    "import math\n",
    "from sklearn.model_selection import train_test_split  #Used to split dataset to test and train\n",
    "from sklearn.preprocessing import StandardScaler      #Used to scale the dataset between -1 and 1\n",
    "from sklearn.neighbors import KNeighborsClassifier    #Classifier to find the k-nearest neighbors\n",
    "from sklearn.metrics import confusion_matrix          #Performance measurement for 2 or more class problems\n",
    "from sklearn.metrics import accuracy_score            #Find accuracy of the Algorithm\n",
    "from sklearn.metrics import f1_score                  #Find the accuracy of the Algorithm considering the false positives and false negatives also"
   ]
  },
  {
   "cell_type": "markdown",
   "metadata": {},
   "source": [
    "###### DATA PREPROCESSING :\n",
    "    "
   ]
  },
  {
   "cell_type": "markdown",
   "metadata": {},
   "source": [
    "This same dataset is going to be used for both KNN and Decision Tree"
   ]
  },
  {
   "cell_type": "code",
   "execution_count": 268,
   "metadata": {},
   "outputs": [
    {
     "data": {
      "text/html": [
       "<div>\n",
       "<style scoped>\n",
       "    .dataframe tbody tr th:only-of-type {\n",
       "        vertical-align: middle;\n",
       "    }\n",
       "\n",
       "    .dataframe tbody tr th {\n",
       "        vertical-align: top;\n",
       "    }\n",
       "\n",
       "    .dataframe thead th {\n",
       "        text-align: right;\n",
       "    }\n",
       "</style>\n",
       "<table border=\"1\" class=\"dataframe\">\n",
       "  <thead>\n",
       "    <tr style=\"text-align: right;\">\n",
       "      <th></th>\n",
       "      <th>Archive Date</th>\n",
       "      <th>Hospital Group</th>\n",
       "      <th>Hospital HIPE</th>\n",
       "      <th>Hospital Name</th>\n",
       "      <th>Specialty HIPE</th>\n",
       "      <th>SpecialtyName</th>\n",
       "      <th>AgeProfile</th>\n",
       "      <th>AdultOrChild</th>\n",
       "      <th>CaseType</th>\n",
       "      <th>WL Type</th>\n",
       "      <th>Time Bands</th>\n",
       "      <th>Total</th>\n",
       "    </tr>\n",
       "  </thead>\n",
       "  <tbody>\n",
       "    <tr>\n",
       "      <th>0</th>\n",
       "      <td>24/09/2020</td>\n",
       "      <td>Dublin Midlands Hospital Group</td>\n",
       "      <td>102</td>\n",
       "      <td>Naas General Hospital</td>\n",
       "      <td>2600</td>\n",
       "      <td>GeneralSurgery</td>\n",
       "      <td>16-64</td>\n",
       "      <td>Adult</td>\n",
       "      <td>DayCase</td>\n",
       "      <td>GI Scope</td>\n",
       "      <td>0-3 Months</td>\n",
       "      <td>135</td>\n",
       "    </tr>\n",
       "    <tr>\n",
       "      <th>1</th>\n",
       "      <td>24/09/2020</td>\n",
       "      <td>Dublin Midlands Hospital Group</td>\n",
       "      <td>102</td>\n",
       "      <td>Naas General Hospital</td>\n",
       "      <td>2600</td>\n",
       "      <td>GeneralSurgery</td>\n",
       "      <td>65+</td>\n",
       "      <td>Adult</td>\n",
       "      <td>DayCase</td>\n",
       "      <td>GI Scope</td>\n",
       "      <td>0-3 Months</td>\n",
       "      <td>31</td>\n",
       "    </tr>\n",
       "    <tr>\n",
       "      <th>2</th>\n",
       "      <td>24/09/2020</td>\n",
       "      <td>Dublin Midlands Hospital Group</td>\n",
       "      <td>102</td>\n",
       "      <td>Naas General Hospital</td>\n",
       "      <td>2600</td>\n",
       "      <td>GeneralSurgery</td>\n",
       "      <td>65+</td>\n",
       "      <td>Adult</td>\n",
       "      <td>DayCase</td>\n",
       "      <td>GI Scope</td>\n",
       "      <td>3-6 Months</td>\n",
       "      <td>13</td>\n",
       "    </tr>\n",
       "    <tr>\n",
       "      <th>3</th>\n",
       "      <td>24/09/2020</td>\n",
       "      <td>Dublin Midlands Hospital Group</td>\n",
       "      <td>102</td>\n",
       "      <td>Naas General Hospital</td>\n",
       "      <td>2600</td>\n",
       "      <td>GeneralSurgery</td>\n",
       "      <td>65+</td>\n",
       "      <td>Adult</td>\n",
       "      <td>DayCase</td>\n",
       "      <td>GI Scope</td>\n",
       "      <td>6-9 Months</td>\n",
       "      <td>21</td>\n",
       "    </tr>\n",
       "    <tr>\n",
       "      <th>4</th>\n",
       "      <td>24/09/2020</td>\n",
       "      <td>Dublin Midlands Hospital Group</td>\n",
       "      <td>102</td>\n",
       "      <td>Naas General Hospital</td>\n",
       "      <td>2600</td>\n",
       "      <td>GeneralSurgery</td>\n",
       "      <td>65+</td>\n",
       "      <td>Adult</td>\n",
       "      <td>DayCase</td>\n",
       "      <td>GI Scope</td>\n",
       "      <td>9-12 Months</td>\n",
       "      <td>25</td>\n",
       "    </tr>\n",
       "  </tbody>\n",
       "</table>\n",
       "</div>"
      ],
      "text/plain": [
       "  Archive Date                  Hospital Group  Hospital HIPE  \\\n",
       "0   24/09/2020  Dublin Midlands Hospital Group            102   \n",
       "1   24/09/2020  Dublin Midlands Hospital Group            102   \n",
       "2   24/09/2020  Dublin Midlands Hospital Group            102   \n",
       "3   24/09/2020  Dublin Midlands Hospital Group            102   \n",
       "4   24/09/2020  Dublin Midlands Hospital Group            102   \n",
       "\n",
       "           Hospital Name  Specialty HIPE   SpecialtyName AgeProfile  \\\n",
       "0  Naas General Hospital            2600  GeneralSurgery      16-64   \n",
       "1  Naas General Hospital            2600  GeneralSurgery        65+   \n",
       "2  Naas General Hospital            2600  GeneralSurgery        65+   \n",
       "3  Naas General Hospital            2600  GeneralSurgery        65+   \n",
       "4  Naas General Hospital            2600  GeneralSurgery        65+   \n",
       "\n",
       "  AdultOrChild CaseType   WL Type     Time Bands  Total  \n",
       "0        Adult  DayCase  GI Scope     0-3 Months    135  \n",
       "1        Adult  DayCase  GI Scope     0-3 Months     31  \n",
       "2        Adult  DayCase  GI Scope     3-6 Months     13  \n",
       "3        Adult  DayCase  GI Scope     6-9 Months     21  \n",
       "4        Adult  DayCase  GI Scope    9-12 Months     25  "
      ]
     },
     "execution_count": 268,
     "metadata": {},
     "output_type": "execute_result"
    }
   ],
   "source": [
    "#Read data from csv as \"DataFrame\" using pandas\n",
    "df = pd.read_csv(\"Filtered Endocronolgy.csv\")\n",
    "df.head()"
   ]
  },
  {
   "cell_type": "code",
   "execution_count": 269,
   "metadata": {},
   "outputs": [
    {
     "data": {
      "text/html": [
       "<div>\n",
       "<style scoped>\n",
       "    .dataframe tbody tr th:only-of-type {\n",
       "        vertical-align: middle;\n",
       "    }\n",
       "\n",
       "    .dataframe tbody tr th {\n",
       "        vertical-align: top;\n",
       "    }\n",
       "\n",
       "    .dataframe thead th {\n",
       "        text-align: right;\n",
       "    }\n",
       "</style>\n",
       "<table border=\"1\" class=\"dataframe\">\n",
       "  <thead>\n",
       "    <tr style=\"text-align: right;\">\n",
       "      <th></th>\n",
       "      <th>Archive Date</th>\n",
       "      <th>Hospital Group</th>\n",
       "      <th>Hospital HIPE</th>\n",
       "      <th>Hospital Name</th>\n",
       "      <th>Specialty HIPE</th>\n",
       "      <th>SpecialtyName</th>\n",
       "      <th>AgeProfile</th>\n",
       "      <th>AdultOrChild</th>\n",
       "      <th>CaseType</th>\n",
       "      <th>WL Type</th>\n",
       "      <th>Time Bands</th>\n",
       "      <th>Total</th>\n",
       "    </tr>\n",
       "  </thead>\n",
       "  <tbody>\n",
       "    <tr>\n",
       "      <th>0</th>\n",
       "      <td>24/09/2020</td>\n",
       "      <td>Dublin Midlands Hospital Group</td>\n",
       "      <td>102</td>\n",
       "      <td>Naas General Hospital</td>\n",
       "      <td>2600</td>\n",
       "      <td>1</td>\n",
       "      <td>2</td>\n",
       "      <td>1</td>\n",
       "      <td>1</td>\n",
       "      <td>GI Scope</td>\n",
       "      <td>0-3 Months</td>\n",
       "      <td>135</td>\n",
       "    </tr>\n",
       "    <tr>\n",
       "      <th>1</th>\n",
       "      <td>24/09/2020</td>\n",
       "      <td>Dublin Midlands Hospital Group</td>\n",
       "      <td>102</td>\n",
       "      <td>Naas General Hospital</td>\n",
       "      <td>2600</td>\n",
       "      <td>1</td>\n",
       "      <td>3</td>\n",
       "      <td>1</td>\n",
       "      <td>1</td>\n",
       "      <td>GI Scope</td>\n",
       "      <td>0-3 Months</td>\n",
       "      <td>31</td>\n",
       "    </tr>\n",
       "    <tr>\n",
       "      <th>2</th>\n",
       "      <td>24/09/2020</td>\n",
       "      <td>Dublin Midlands Hospital Group</td>\n",
       "      <td>102</td>\n",
       "      <td>Naas General Hospital</td>\n",
       "      <td>2600</td>\n",
       "      <td>1</td>\n",
       "      <td>3</td>\n",
       "      <td>1</td>\n",
       "      <td>1</td>\n",
       "      <td>GI Scope</td>\n",
       "      <td>3-6 Months</td>\n",
       "      <td>13</td>\n",
       "    </tr>\n",
       "    <tr>\n",
       "      <th>3</th>\n",
       "      <td>24/09/2020</td>\n",
       "      <td>Dublin Midlands Hospital Group</td>\n",
       "      <td>102</td>\n",
       "      <td>Naas General Hospital</td>\n",
       "      <td>2600</td>\n",
       "      <td>1</td>\n",
       "      <td>3</td>\n",
       "      <td>1</td>\n",
       "      <td>1</td>\n",
       "      <td>GI Scope</td>\n",
       "      <td>6-9 Months</td>\n",
       "      <td>21</td>\n",
       "    </tr>\n",
       "    <tr>\n",
       "      <th>4</th>\n",
       "      <td>24/09/2020</td>\n",
       "      <td>Dublin Midlands Hospital Group</td>\n",
       "      <td>102</td>\n",
       "      <td>Naas General Hospital</td>\n",
       "      <td>2600</td>\n",
       "      <td>1</td>\n",
       "      <td>3</td>\n",
       "      <td>1</td>\n",
       "      <td>1</td>\n",
       "      <td>GI Scope</td>\n",
       "      <td>9-12 Months</td>\n",
       "      <td>25</td>\n",
       "    </tr>\n",
       "  </tbody>\n",
       "</table>\n",
       "</div>"
      ],
      "text/plain": [
       "  Archive Date                  Hospital Group  Hospital HIPE  \\\n",
       "0   24/09/2020  Dublin Midlands Hospital Group            102   \n",
       "1   24/09/2020  Dublin Midlands Hospital Group            102   \n",
       "2   24/09/2020  Dublin Midlands Hospital Group            102   \n",
       "3   24/09/2020  Dublin Midlands Hospital Group            102   \n",
       "4   24/09/2020  Dublin Midlands Hospital Group            102   \n",
       "\n",
       "           Hospital Name  Specialty HIPE  SpecialtyName  AgeProfile  \\\n",
       "0  Naas General Hospital            2600              1           2   \n",
       "1  Naas General Hospital            2600              1           3   \n",
       "2  Naas General Hospital            2600              1           3   \n",
       "3  Naas General Hospital            2600              1           3   \n",
       "4  Naas General Hospital            2600              1           3   \n",
       "\n",
       "   AdultOrChild  CaseType   WL Type     Time Bands  Total  \n",
       "0             1         1  GI Scope     0-3 Months    135  \n",
       "1             1         1  GI Scope     0-3 Months     31  \n",
       "2             1         1  GI Scope     3-6 Months     13  \n",
       "3             1         1  GI Scope     6-9 Months     21  \n",
       "4             1         1  GI Scope    9-12 Months     25  "
      ]
     },
     "execution_count": 269,
     "metadata": {},
     "output_type": "execute_result"
    }
   ],
   "source": [
    "#We will be taking \"SpecialtyName', 'AgeProfile','Adult/Child' an 'Age' as our features\n",
    "#Mapping the string values of each feature and final result into numeric values for computation.\n",
    "#Later assigning them back to the same column of the DataFrame\n",
    "\n",
    "Case_Type = {'DayCase': 1, 'Inpatient': 2} \n",
    "df['CaseType'] = df['CaseType'].map(Case_Type)\n",
    "\n",
    "Category = {'GeneralSurgery': 1, 'GeneralMedicine': 2} \n",
    "df['SpecialtyName'] = df['SpecialtyName'].map(Category)\n",
    "\n",
    "Age = {'0-15': 1, '16-64': 2, '65+': 3} \n",
    "df['AgeProfile'] = df['AgeProfile'].map(Age)\n",
    "\n",
    "Adult_Child = {'Adult': 1, 'Child': 2} \n",
    "df['AdultOrChild'] = df['AdultOrChild'].map(Adult_Child)\n",
    "\n",
    "#printing the head to check if the numeric values are mapped.\n",
    "df.head()\n"
   ]
  },
  {
   "cell_type": "code",
   "execution_count": 270,
   "metadata": {},
   "outputs": [],
   "source": [
    "#It is important to remove non-numeric data from the feature set \n",
    "#In this case having a Zero in any feature will not make sense as speciality type, age profile,adult/child or case type can't be 0\n",
    "\n",
    "#The below 4 features are taken here for prediction \n",
    "dfSliced = df.loc[:,('SpecialtyName','AgeProfile','AdultOrChild','CaseType')]\n",
    "\n",
    "#The column in which Zero should be removed\n",
    "Zeros_to_be_removed = ['SpecialtyName' ,'AgeProfile','AdultOrChild']\n",
    "\n",
    "#Finds 0 and replace it with 'nan' - not a number in each of the feature column and then replacing it with the mean \n",
    "#it is replaced with mean than rather deleting,because that way we can still use the data as using mean wont change the data much\n",
    "\n",
    "for column in Zeros_to_be_removed:\n",
    "  dfSliced[column] = dfSliced[column].replace(0,np.nan)\n",
    "  mean_of_data = int(dfSliced[column].mean(skipna = True))\n",
    "  dfSliced[column] = dfSliced[column].replace(np.nan,mean_of_data)"
   ]
  },
  {
   "cell_type": "code",
   "execution_count": 271,
   "metadata": {},
   "outputs": [],
   "source": [
    "#X denotes the feature set ie; columns 1 to 3\n",
    "#Y denotes the target/result/class ie; column 3 . In our case the \"CaseType\"\n",
    "\n",
    "X = dfSliced.iloc[:,0:3]\n",
    "y = dfSliced.iloc[:,3]\n",
    "\n",
    "#Using the train_test_split function proviede by Skylearn to split the DF determenistic using the seed eachtime\n",
    "#the program runs (random_state = int) with 20% of the data as test data (p=0.2)\n",
    "X_train,X_test,Y_train,Y_test = train_test_split(X,y,random_state =0, test_size = 0.2)\n"
   ]
  },
  {
   "cell_type": "code",
   "execution_count": 272,
   "metadata": {},
   "outputs": [],
   "source": [
    "#Scaling the DF to be normalised within the range -1 and 1 using the StandardScaler.\n",
    "#This is done by substracting the mean and then scaling it to unit variance\n",
    "\n",
    "Scaler = StandardScaler()\n",
    "\n",
    "#Find the scaling parameters from the X_train and fit it to transfrom the X_train\n",
    "#Use that parameteres to scale  X_test \n",
    "X_train = Scaler.fit_transform(X_train)\n",
    "X_test = Scaler.transform (X_test)"
   ]
  },
  {
   "cell_type": "markdown",
   "metadata": {},
   "source": [
    "##### DATA PREPROCESSING ENDS "
   ]
  },
  {
   "cell_type": "markdown",
   "metadata": {},
   "source": [
    "###### Implementing KNN - \n",
    "Calculating K and then creating, training the calssifier and\n",
    "using the calssifier to predict "
   ]
  },
  {
   "cell_type": "code",
   "execution_count": 273,
   "metadata": {},
   "outputs": [
    {
     "data": {
      "text/plain": [
       "10.723805294763608"
      ]
     },
     "execution_count": 273,
     "metadata": {},
     "output_type": "execute_result"
    }
   ],
   "source": [
    "#Find the 'K' value as discussed with the Square Root of the length of the dataset\n",
    "#Round it to +/- 1 if even. \n",
    "#We are rounding to 11\n",
    "\n",
    "math.sqrt(len(Y_test))"
   ]
  },
  {
   "cell_type": "code",
   "execution_count": 274,
   "metadata": {},
   "outputs": [],
   "source": [
    "#Applying the KNeighbor classifier from SKlearn with 'K' as 11, p=2 (we have 2 target classes, metric as euclidean)\n",
    "classifier = KNeighborsClassifier(n_neighbors= 11,p=2,metric='euclidean')"
   ]
  },
  {
   "cell_type": "code",
   "execution_count": 275,
   "metadata": {},
   "outputs": [
    {
     "data": {
      "text/plain": [
       "KNeighborsClassifier(metric='euclidean', n_neighbors=11)"
      ]
     },
     "execution_count": 275,
     "metadata": {},
     "output_type": "execute_result"
    }
   ],
   "source": [
    "#Train the classifier with our train data\n",
    "classifier.fit(X_train,Y_train)"
   ]
  },
  {
   "cell_type": "code",
   "execution_count": 276,
   "metadata": {},
   "outputs": [
    {
     "name": "stdout",
     "output_type": "stream",
     "text": [
      "[1 1 1 1 1 1 1 1 1 1 1 1 1 1 1 1 1 1 1 1 1 1 1 1 1 1 1 1 1 1 1 1 1 1 1 1 1\n",
      " 1 1 1 1 1 1 1 1 1 1 1 1 1 1 1 1 1 1 1 1 1 1 1 1 1 1 1 1 1 1 1 1 1 1 1 1 1\n",
      " 1 1 1 1 1 1 1 1 1 1 1 1 1 1 1 1 1 1 1 1 1 1 1 1 1 1 1 1 1 1 1 1 1 1 1 1 1\n",
      " 1 1 1 1]\n"
     ]
    }
   ],
   "source": [
    "#Using the predict method of the classifier to predict the calss of X_test of our DF\n",
    "\n",
    "YPredict = classifier.predict(X_test)\n",
    "print (YPredict)"
   ]
  },
  {
   "cell_type": "code",
   "execution_count": 277,
   "metadata": {},
   "outputs": [
    {
     "name": "stdout",
     "output_type": "stream",
     "text": [
      "[[99  0]\n",
      " [16  0]]\n"
     ]
    }
   ],
   "source": [
    "#Using confusion metrics to take the count of false positives, false negatives, true positives and false negatives\n",
    "#True positive = We predicted positive and its true\n",
    "#True negative = we predicted negative and its true\n",
    "#False negative = we predicted False and its false\n",
    "#True negative = we predicte True and is True\n",
    "\n",
    "#Since we are taking our test and train set randomly everytime the confusion matrix value will be also different,but will be similar\n",
    "confusion = confusion_matrix(Y_test,YPredict)\n",
    "print (confusion)\n"
   ]
  },
  {
   "cell_type": "code",
   "execution_count": 278,
   "metadata": {},
   "outputs": [
    {
     "name": "stdout",
     "output_type": "stream",
     "text": [
      "0.9252336448598132\n"
     ]
    }
   ],
   "source": [
    "# Normally the accuracy of a classification Algorithm cant be deciced with accuracy score.\n",
    "#Either use Confusion matrix or F1_score to find the accuracy of classification models\n",
    "\n",
    "print(f1_score(Y_test,YPredict))"
   ]
  },
  {
   "cell_type": "markdown",
   "metadata": {},
   "source": [
    "Observation : KNN is approx. 93% accurate. \n",
    "This means that KNN correctly classified 93% of the ClassType of the patients in the Endocronolgy Department of Ireland East Hospital Group \n",
    "within the speciality of General Medicine and General Science, when run on the test data the rest 7 % of the time the Algorithm predicted wrong. \n",
    "Still 93% is quite good for such a small dataset using KNN"
   ]
  },
  {
   "cell_type": "markdown",
   "metadata": {},
   "source": [
    "###### DECISION TREE\n",
    "\n",
    "What?\n",
    "\n",
    "    > Decision Tree is a supervised classification method used using a tree structure with the basis of entropy and \n",
    "      information gain and CART(Classification and Regression Tree) algorithm\n",
    "    > It can be both used for regression and calssification. We will be using for classification\n",
    "      \n",
    "Why Decision Tree / When to choose?\n",
    "\n",
    "     > Data is labelled\n",
    "     > When the feature is really important to take a decision\n",
    "     > Understand why one feature is important than the other\n",
    "     > Non-linear parameters doesnt effect the decision\n",
    "    \n",
    "Terms?\n",
    "\n",
    "      > Root Node - Top most node from which the tree starts\n",
    "      > Decision Node - Node that has 2 or more branches\n",
    "      > Leaf node - Final node / Decision.\n",
    "      > Entropy/ Gini - Measure of randomness or unpredictness in a dataset.\n",
    "           The entropy should be reduced and should be 0 if possible when we reach the leaf node.\n",
    "            Entropy = P * log (p) added over all the data points\n",
    "      > Information Gain- Measure of reduction of entropy after the data set is split.\n",
    "           Higher the information gain higher the Entropy loss\n",
    "           Always aim at high Information Gain while asking a question \n",
    "              \n",
    "How does it work?\n",
    "\n",
    "      > Build the tree by asking the question with high Information Gain\n",
    "      > Split the dataset with Yes/No to that question\n",
    "      > Ask the next question with high information Gain\n",
    "      > Repeat this until we get required leaf nodes\n",
    "      > Once the tree is build, the input testdata is traveresed through the same tree to predict the results\n",
    "      "
   ]
  },
  {
   "cell_type": "markdown",
   "metadata": {},
   "source": [
    "###### Implementing Decision Tree"
   ]
  },
  {
   "cell_type": "code",
   "execution_count": 279,
   "metadata": {},
   "outputs": [],
   "source": [
    "from sklearn import tree"
   ]
  },
  {
   "cell_type": "code",
   "execution_count": 280,
   "metadata": {},
   "outputs": [
    {
     "name": "stdout",
     "output_type": "stream",
     "text": [
      "['SpecialtyName', 'AgeProfile', 'AdultOrChild']\n"
     ]
    }
   ],
   "source": [
    "#Define the features needed to ask the question\n",
    "\n",
    "features = list(dfSliced[['SpecialtyName','AgeProfile','AdultOrChild']])\n",
    "print(features)"
   ]
  },
  {
   "cell_type": "code",
   "execution_count": 286,
   "metadata": {},
   "outputs": [],
   "source": [
    "#Using the Decision Tree classifier with criteria entropy, depth =3, leaf number = 5\n",
    "clf_entropy = tree.DecisionTreeClassifier(criterion ='entropy',max_depth =3, min_samples_leaf =5) \n",
    "clf = clf_entropy.fit(X_train,Y_train)"
   ]
  },
  {
   "cell_type": "code",
   "execution_count": 287,
   "metadata": {},
   "outputs": [
    {
     "data": {
      "image/png": "[encoded data removed]",
      "text/plain": [
       "<IPython.core.display.Image object>"
      ]
     },
     "execution_count": 287,
     "metadata": {},
     "output_type": "execute_result"
    }
   ],
   "source": [
    "import sys\n",
    "sys.modules['sklearn.externals.six'] = six\n",
    "import pydot\n",
    "import graphviz  #used to visualise the tree\n",
    "from IPython.display import Image  \n",
    " \n",
    "dot_data = StringIO()  \n",
    "tree.export_graphviz(clf, out_file=dot_data,  \n",
    "                         feature_names=features)  #load the out file and feature names into graphviz function\n",
    "\n",
    "#pydot helps to process, create and modify graphs in Graphviz's dot language.\n",
    "(graph,) = pydot.graph_from_dot_data(dot_data.getvalue()) \n",
    "\n",
    "Image(graph.create_png())  \n"
   ]
  },
  {
   "cell_type": "markdown",
   "metadata": {},
   "source": [
    "Observation : Decision Tree is taking the AgeProfile as the first feature because it has the highest information Gain value. The tree is split to 2 on th left with AgeProfile<=0.082 and on right with AgeProfile>0.082. \n",
    "The next factor is Speciality Name, followed by \"Adult/Child\" feature.\n",
    "We have 5 leaf nodes with the least information gain values"
   ]
  },
  {
   "cell_type": "code",
   "execution_count": 283,
   "metadata": {},
   "outputs": [
    {
     "name": "stdout",
     "output_type": "stream",
     "text": [
      "[1 1 1 1 1 1 1 1 1 1 1 1 1 1 1 1 1 1 1 1 1 1 1 1 1 1 1 1 1 1 1 1 1 1 1 1 1\n",
      " 1 1 1 1 1 1 1 1 1 1 1 1 1 1 1 1 1 1 1 1 1 1 1 1 1 1 1 1 1 1 1 1 1 1 1 1 1\n",
      " 1 1 1 1 1 1 1 1 1 1 1 1 1 1 1 1 1 1 1 1 1 1 1 1 1 1 1 1 1 1 1 1 1 1 1 1 1\n",
      " 1 1 1 1]\n"
     ]
    }
   ],
   "source": [
    "#Predicting the decision using the predict function on the test data\n",
    "Ypredict = clf_entropy.predict(X_test)\n",
    "print (YPredict)\n"
   ]
  },
  {
   "cell_type": "code",
   "execution_count": 284,
   "metadata": {},
   "outputs": [
    {
     "name": "stdout",
     "output_type": "stream",
     "text": [
      "[[99  0]\n",
      " [16  0]]\n"
     ]
    }
   ],
   "source": [
    "confusion = confusion_matrix(Y_test,YPredict)\n",
    "print (confusion)"
   ]
  },
  {
   "cell_type": "code",
   "execution_count": 285,
   "metadata": {},
   "outputs": [
    {
     "name": "stdout",
     "output_type": "stream",
     "text": [
      "0.9252336448598132\n"
     ]
    }
   ],
   "source": [
    "#Calculate the F1Score like we did for KNN\n",
    "print(f1_score(Y_test,YPredict))"
   ]
  },
  {
   "cell_type": "markdown",
   "metadata": {},
   "source": [
    "Observation : Decision Tree is approx. 93% accurate. \n",
    "This means that Decision correctly classified 93% of the ClassType of the patients in the Endocronolgy Department of Ireland East Hospital Group \n",
    "within the speciality of General Medicine and General Science, when run on the test data the rest 7 % of the time the Algorithm predicted wrong. \n",
    "Still 93% is quite good for such a small dataset using Decision Tree"
   ]
  },
  {
   "cell_type": "markdown",
   "metadata": {},
   "source": [
    "Conclusion : Both the classifying algorithms are giving an F1 score of 93% which means that both can be used to calssify the data and "
   ]
  }
 ],
 "metadata": {
  "kernelspec": {
   "display_name": "Python 3",
   "language": "python",
   "name": "python3"
  },
  "language_info": {
   "codemirror_mode": {
    "name": "ipython",
    "version": 3
   },
   "file_extension": ".py",
   "mimetype": "text/x-python",
   "name": "python",
   "nbconvert_exporter": "python",
   "pygments_lexer": "ipython3",
   "version": "3.8.5"
  }
 },
 "nbformat": 4,
 "nbformat_minor": 4
}
